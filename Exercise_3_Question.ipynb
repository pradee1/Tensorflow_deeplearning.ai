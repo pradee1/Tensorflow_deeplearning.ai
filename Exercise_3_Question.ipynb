{
  "nbformat": 4,
  "nbformat_minor": 0,
  "metadata": {
    "colab": {
      "name": "Exercise 3 - Question.ipynb",
      "version": "0.3.2",
      "provenance": [],
      "collapsed_sections": [],
      "include_colab_link": true
    },
    "kernelspec": {
      "name": "python3",
      "display_name": "Python 3"
    },
    "accelerator": "GPU"
  },
  "cells": [
    {
      "cell_type": "markdown",
      "metadata": {
        "id": "view-in-github",
        "colab_type": "text"
      },
      "source": [
        "<a href=\"https://colab.research.google.com/github/pradee1/Tensorflow_deeplearning.ai/blob/master/Exercise_3_Question.ipynb\" target=\"_parent\"><img src=\"https://colab.research.google.com/assets/colab-badge.svg\" alt=\"Open In Colab\"/></a>"
      ]
    },
    {
      "cell_type": "markdown",
      "metadata": {
        "id": "iQjHqsmTAVLU",
        "colab_type": "text"
      },
      "source": [
        "## Exercise 3\n",
        "In the videos you looked at how you would improve Fashion MNIST using Convolutions. For your exercise see if you can improve MNIST to 99.8% accuracy or more using only a single convolutional layer and a single MaxPooling 2D. You should stop training once the accuracy goes above this amount. It should happen in less than 20 epochs, so it's ok to hard code the number of epochs for training, but your training must end once it hits the above metric. If it doesn't, then you'll need to redesign your layers.\n",
        "\n",
        "I've started the code for you -- you need to finish it!\n",
        "\n",
        "When 99.8% accuracy has been hit, you should print out the string \"Reached 99.8% accuracy so cancelling training!\"\n"
      ]
    },
    {
      "cell_type": "code",
      "metadata": {
        "id": "XoToIWQvZthJ",
        "colab_type": "code",
        "outputId": "fc4e7b26-e74e-4fee-ef3a-86e23b88d60c",
        "colab": {
          "base_uri": "https://localhost:8080/",
          "height": 52
        }
      },
      "source": [
        "import tensorflow as tf\n",
        "mnist = tf.keras.datasets.mnist\n",
        "(training_images, training_labels), (test_images, test_labels) = mnist.load_data()"
      ],
      "execution_count": 0,
      "outputs": [
        {
          "output_type": "stream",
          "text": [
            "Downloading data from https://storage.googleapis.com/tensorflow/tf-keras-datasets/mnist.npz\n",
            "11493376/11490434 [==============================] - 0s 0us/step\n"
          ],
          "name": "stdout"
        }
      ]
    },
    {
      "cell_type": "code",
      "metadata": {
        "id": "tyG3NZGBZzxg",
        "colab_type": "code",
        "outputId": "3b9f3635-2a2a-4633-f9de-b9af925eb246",
        "colab": {
          "base_uri": "https://localhost:8080/",
          "height": 35
        }
      },
      "source": [
        "test_images.shape"
      ],
      "execution_count": 0,
      "outputs": [
        {
          "output_type": "execute_result",
          "data": {
            "text/plain": [
              "(10000, 28, 28)"
            ]
          },
          "metadata": {
            "tags": []
          },
          "execution_count": 8
        }
      ]
    },
    {
      "cell_type": "code",
      "metadata": {
        "id": "sfQRyaJWAIdg",
        "colab_type": "code",
        "outputId": "11b37cdd-9aed-4a78-b40e-5958437f77ac",
        "colab": {
          "base_uri": "https://localhost:8080/",
          "height": 453
        }
      },
      "source": [
        "import tensorflow as tf\n",
        "\n",
        "class Set_callbacks(tf.keras.callbacks.Callback):\n",
        "  def on_epoch_end(self,epoch,logs={}):\n",
        "    if logs.get('acc')>=0.998:\n",
        "      print(\"\\nReached!!\")\n",
        "      self.model.stop_training = True\n",
        "      \n",
        "callbacks = Set_callbacks()\n",
        "\n",
        "mnist = tf.keras.datasets.mnist\n",
        "(training_images, training_labels), (test_images, test_labels) = mnist.load_data()\n",
        "\n",
        "training_images = training_images/255.0\n",
        "training_images = training_images.reshape(60000, 28, 28, 1)\n",
        "test_images = test_images/255.0\n",
        "test_images = test_images.reshape(10000, 28, 28, 1)\n",
        "\n",
        "model = tf.keras.models.Sequential([tf.keras.layers.Conv2D(kernel_size = (3,3),filters = 32, activation=tf.nn.relu),\n",
        "                                    tf.keras.layers.MaxPooling2D(2,2),\n",
        "                                    tf.keras.layers.Flatten(),\n",
        "                                    tf.keras.layers.Dense(512, activation=tf.nn.relu),\n",
        "                                    tf.keras.layers.Dense(256, activation=tf.nn.relu),\n",
        "                                    tf.keras.layers.Dense(100, activation=tf.nn.relu),\n",
        "                                    tf.keras.layers.Dense(10, activation=tf.nn.sigmoid)\n",
        "])\n",
        "\n",
        "model.compile(optimizer='adam', loss='sparse_categorical_crossentropy', metrics =['accuracy'])\n",
        "\n",
        "model.fit(training_images, training_labels, epochs = 20, callbacks = [callbacks])\n"
      ],
      "execution_count": 0,
      "outputs": [
        {
          "output_type": "stream",
          "text": [
            "W0621 14:33:09.463304 140697937110912 deprecation.py:323] From /usr/local/lib/python3.6/dist-packages/tensorflow/python/ops/math_grad.py:1250: add_dispatch_support.<locals>.wrapper (from tensorflow.python.ops.array_ops) is deprecated and will be removed in a future version.\n",
            "Instructions for updating:\n",
            "Use tf.where in 2.0, which has the same broadcast rule as np.where\n"
          ],
          "name": "stderr"
        },
        {
          "output_type": "stream",
          "text": [
            "Epoch 1/20\n",
            "60000/60000 [==============================] - 19s 314us/sample - loss: 0.1501 - acc: 0.9542\n",
            "Epoch 2/20\n",
            "60000/60000 [==============================] - 16s 272us/sample - loss: 0.0501 - acc: 0.9848\n",
            "Epoch 3/20\n",
            "60000/60000 [==============================] - 16s 274us/sample - loss: 0.0323 - acc: 0.9903\n",
            "Epoch 4/20\n",
            "60000/60000 [==============================] - 16s 273us/sample - loss: 0.0228 - acc: 0.9930\n",
            "Epoch 5/20\n",
            "60000/60000 [==============================] - 17s 277us/sample - loss: 0.0172 - acc: 0.9948\n",
            "Epoch 6/20\n",
            "60000/60000 [==============================] - 16s 269us/sample - loss: 0.0138 - acc: 0.9961\n",
            "Epoch 7/20\n",
            "60000/60000 [==============================] - 16s 268us/sample - loss: 0.0112 - acc: 0.9969\n",
            "Epoch 8/20\n",
            "60000/60000 [==============================] - 16s 269us/sample - loss: 0.0089 - acc: 0.9976\n",
            "Epoch 9/20\n",
            "59872/60000 [============================>.] - ETA: 0s - loss: 0.0071 - acc: 0.9981\n",
            "Reached!!\n",
            "60000/60000 [==============================] - 16s 271us/sample - loss: 0.0071 - acc: 0.9981\n"
          ],
          "name": "stdout"
        },
        {
          "output_type": "execute_result",
          "data": {
            "text/plain": [
              "<tensorflow.python.keras.callbacks.History at 0x7ff6812e52e8>"
            ]
          },
          "metadata": {
            "tags": []
          },
          "execution_count": 20
        }
      ]
    },
    {
      "cell_type": "code",
      "metadata": {
        "id": "Dv4dROZWcRn9",
        "colab_type": "code",
        "colab": {}
      },
      "source": [
        ""
      ],
      "execution_count": 0,
      "outputs": []
    }
  ]
}